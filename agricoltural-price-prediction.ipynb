{
  "nbformat": 4,
  "nbformat_minor": 0,
  "metadata": {
    "colab": {
      "name": "Data-analytics-and-mining.ipynb",
      "provenance": []
    },
    "kernelspec": {
      "name": "python3",
      "display_name": "Python 3"
    },
    "language_info": {
      "name": "python"
    }
  },
  "cells": [
    {
      "cell_type": "markdown",
      "source": [
        "# Data Analytics and Data Mining\n",
        "## The effects of weather on agricoltural commodity price predictions\n",
        "\n"
      ],
      "metadata": {
        "id": "MJpwr3_zL2Vr"
      }
    },
    {
      "cell_type": "code",
      "execution_count": 1,
      "metadata": {
        "id": "aI2Zw0bYLRXr",
        "colab": {
          "base_uri": "https://localhost:8080/"
        },
        "outputId": "d8fb3e7d-8e83-4e49-9092-8ebddd4be348"
      },
      "outputs": [
        {
          "output_type": "stream",
          "name": "stdout",
          "text": [
            "Requirement already satisfied: pmdarima in /usr/local/lib/python3.7/dist-packages (1.8.5)\n",
            "Requirement already satisfied: joblib>=0.11 in /usr/local/lib/python3.7/dist-packages (from pmdarima) (1.1.0)\n",
            "Requirement already satisfied: statsmodels!=0.12.0,>=0.11 in /usr/local/lib/python3.7/dist-packages (from pmdarima) (0.11.0)\n",
            "Requirement already satisfied: Cython!=0.29.18,>=0.29 in /usr/local/lib/python3.7/dist-packages (from pmdarima) (0.29.28)\n",
            "Requirement already satisfied: scipy>=1.3.2 in /usr/local/lib/python3.7/dist-packages (from pmdarima) (1.4.1)\n",
            "Requirement already satisfied: setuptools!=50.0.0,>=38.6.0 in /usr/local/lib/python3.7/dist-packages (from pmdarima) (57.4.0)\n",
            "Requirement already satisfied: numpy>=1.19.3 in /usr/local/lib/python3.7/dist-packages (from pmdarima) (1.21.5)\n",
            "Requirement already satisfied: scikit-learn>=0.22 in /usr/local/lib/python3.7/dist-packages (from pmdarima) (1.0.2)\n",
            "Requirement already satisfied: pandas>=0.19 in /usr/local/lib/python3.7/dist-packages (from pmdarima) (1.3.5)\n",
            "Requirement already satisfied: urllib3 in /usr/local/lib/python3.7/dist-packages (from pmdarima) (1.24.3)\n",
            "Requirement already satisfied: python-dateutil>=2.7.3 in /usr/local/lib/python3.7/dist-packages (from pandas>=0.19->pmdarima) (2.8.2)\n",
            "Requirement already satisfied: pytz>=2017.3 in /usr/local/lib/python3.7/dist-packages (from pandas>=0.19->pmdarima) (2018.9)\n",
            "Requirement already satisfied: six>=1.5 in /usr/local/lib/python3.7/dist-packages (from python-dateutil>=2.7.3->pandas>=0.19->pmdarima) (1.15.0)\n",
            "Requirement already satisfied: threadpoolctl>=2.0.0 in /usr/local/lib/python3.7/dist-packages (from scikit-learn>=0.22->pmdarima) (3.1.0)\n",
            "Requirement already satisfied: patsy>=0.5 in /usr/local/lib/python3.7/dist-packages (from statsmodels!=0.12.0,>=0.11->pmdarima) (0.5.2)\n",
            "Requirement already satisfied: statsmodels==0.11.0 in /usr/local/lib/python3.7/dist-packages (0.11.0)\n",
            "Requirement already satisfied: scipy>=1.0 in /usr/local/lib/python3.7/dist-packages (from statsmodels==0.11.0) (1.4.1)\n",
            "Requirement already satisfied: patsy>=0.5 in /usr/local/lib/python3.7/dist-packages (from statsmodels==0.11.0) (0.5.2)\n",
            "Requirement already satisfied: pandas>=0.21 in /usr/local/lib/python3.7/dist-packages (from statsmodels==0.11.0) (1.3.5)\n",
            "Requirement already satisfied: numpy>=1.14 in /usr/local/lib/python3.7/dist-packages (from statsmodels==0.11.0) (1.21.5)\n",
            "Requirement already satisfied: python-dateutil>=2.7.3 in /usr/local/lib/python3.7/dist-packages (from pandas>=0.21->statsmodels==0.11.0) (2.8.2)\n",
            "Requirement already satisfied: pytz>=2017.3 in /usr/local/lib/python3.7/dist-packages (from pandas>=0.21->statsmodels==0.11.0) (2018.9)\n",
            "Requirement already satisfied: six in /usr/local/lib/python3.7/dist-packages (from patsy>=0.5->statsmodels==0.11.0) (1.15.0)\n"
          ]
        }
      ],
      "source": [
        "#Pip Packages\n",
        "!pip install pmdarima\n",
        "!pip install statsmodels==0.11.0\n",
        "\n",
        "#Imports and settings\n",
        "import numpy as np, pandas as pd\n",
        "from statsmodels.graphics.tsaplots import plot_acf, plot_pacf\n",
        "import matplotlib.pyplot as plt\n",
        "import matplotlib.dates\n",
        "from datetime import datetime\n",
        "from statsmodels.tsa.stattools import adfuller\n",
        "from statsmodels.tsa.arima_model import ARIMA\n",
        "from statsmodels.tsa.stattools import acf #Metrics\n",
        "import pmdarima as pm #Auto arima\n",
        "\n",
        "#Settings\n",
        "%config InlineBackend.figure_format='retina'"
      ]
    },
    {
      "cell_type": "markdown",
      "source": [
        "### Retrieve data from a private remote server"
      ],
      "metadata": {
        "id": "GN_5tD6LTADJ"
      }
    },
    {
      "cell_type": "code",
      "source": [
        "remote_host = 'https://www.ingmarzo.it/data/'\n",
        "corn_data = pd.read_csv(remote_host + 'corn-data.csv', header=8, parse_dates=['date'])\n",
        "soybean_data = pd.read_csv(remote_host + 'soybean-data.csv', header=8, parse_dates=['date'])\n",
        "weather_data = pd.read_csv(remote_host + 'weather-data.csv', header=0, parse_dates=['DATE'])"
      ],
      "metadata": {
        "id": "Ni7TLdlCPu_O"
      },
      "execution_count": null,
      "outputs": []
    },
    {
      "cell_type": "markdown",
      "source": [
        "## Data Cleaning"
      ],
      "metadata": {
        "id": "_gTxWjgOsqLn"
      }
    },
    {
      "cell_type": "code",
      "source": [
        "corn_data.rename(columns={' value': 'value'}, inplace=True) #bug on value fixed\n",
        "weather_data.rename(columns={'DATE': 'date'}, inplace=True) #rename date column\n",
        "corn_data['date'] = pd.to_datetime(corn_data['date'])  \n",
        "\n",
        "start_date, end_date = '2011-01-01', '2015-01-01'\n",
        "corn_date_filter = (corn_data['date'] > start_date) & (corn_data['date'] <= end_date)\n",
        "\n",
        "corn_data_clean = corn_data.loc[corn_date_filter]"
      ],
      "metadata": {
        "id": "kgAjC34Jss6j"
      },
      "execution_count": null,
      "outputs": []
    },
    {
      "cell_type": "markdown",
      "source": [
        "## Univariate Time Series Forecasting\n",
        "Use only the past values of the time series to predict its future values.\n",
        "\n",
        "---\n",
        "\n",
        "\n",
        "**ARIMA** i.e. Auto Regressive Integrated Moving Average, is a class of models that analyses a time series based on its own previous values and can be used to anticipate future values. "
      ],
      "metadata": {
        "id": "vwGKvy2UUzVW"
      }
    },
    {
      "cell_type": "markdown",
      "source": [
        "### Auto regressive (AR) Analysis\n",
        "To avoid the effect of inter-dependency it is possible to apply differentiation and make the series Stationary."
      ],
      "metadata": {
        "id": "ePk_8mGVrK-V"
      }
    },
    {
      "cell_type": "code",
      "source": [
        "# Is the series stationary?\n",
        "# ADF Test\n",
        "result = adfuller(corn_data_clean['value'].dropna())\n",
        "print('ADF Statistic: %f' % result[0])\n",
        "print('p-value: %f' % result[1])"
      ],
      "metadata": {
        "id": "Q4Bk2E3OSeGl"
      },
      "execution_count": null,
      "outputs": []
    },
    {
      "cell_type": "markdown",
      "source": [
        "### Test results\n",
        "Since P-value is greater than the significance level, the series is autocorrelated (as expected). It is now possible to differentiate the series and repeat the ADF Test"
      ],
      "metadata": {
        "id": "9BYCk5B3tRD1"
      }
    },
    {
      "cell_type": "code",
      "source": [
        "plt.rcParams.update({'figure.figsize':(16,8)})\n",
        "\n",
        "# Original Series\n",
        "fig, axes = plt.subplots(2, 2, sharex=True)\n",
        "axes[0, 0].plot(corn_data_clean['value'].dropna().values)\n",
        "axes[0, 0].set_title('Original Series')\n",
        "plot_acf(corn_data_clean['value'].dropna().values, ax=axes[0, 1])\n",
        "\n",
        "# 1st Differencing\n",
        "axes[1, 0].plot(corn_data_clean['value'].diff().values)\n",
        "axes[1, 0].set_title('1st Order Differencing')\n",
        "plot_acf(corn_data_clean['value'].diff().dropna().values, ax=axes[1, 1])\n",
        "\n",
        "plt.show()\n"
      ],
      "metadata": {
        "id": "V_FoVjx8sPpQ"
      },
      "execution_count": null,
      "outputs": []
    },
    {
      "cell_type": "code",
      "source": [
        "# Test autocorrelation for 1st order differencing\n",
        "result = adfuller(corn_data_clean['value'].diff().dropna())\n",
        "print('ADF Statistic: %f' % result[0])\n",
        "print('p-value: %f' % result[1])"
      ],
      "metadata": {
        "id": "OinvYb8usTCg"
      },
      "execution_count": null,
      "outputs": []
    },
    {
      "cell_type": "markdown",
      "source": [
        "### Corn price is no longer autocorrelated\n",
        "The resulting series `corn_data_clean['value'].diff()` has been proven stationary"
      ],
      "metadata": {
        "id": "JoUDPjoWyQoP"
      }
    },
    {
      "cell_type": "code",
      "source": [
        "#corn_data_clean['value'].diff().values"
      ],
      "metadata": {
        "id": "QuiFxfxNx_T9"
      },
      "execution_count": null,
      "outputs": []
    },
    {
      "cell_type": "markdown",
      "source": [
        "### Partial autocorrelation\n",
        "Many values can be still partially autocorrelated, the PACF plot gives a visual hint about how resudual partial autocorrelation is present in the data. Since many values resides within the lightblue region (Significance limit region) the effect of autocorrelation is well contained. Values outside of the lightblue region are the most affected by autocoreelation"
      ],
      "metadata": {
        "id": "ozOFFJje2CeQ"
      }
    },
    {
      "cell_type": "code",
      "source": [
        "plt.rcParams.update({'figure.figsize':(16,4)})\n",
        "fig, axes = plt.subplots(1, 1, sharex=True)\n",
        "plot_pacf(corn_data_clean['value'].diff().dropna(), ax=axes)\n",
        "plt.show()"
      ],
      "metadata": {
        "id": "PxoPTFn8y5aI"
      },
      "execution_count": null,
      "outputs": []
    },
    {
      "cell_type": "markdown",
      "source": [
        "## Import and set up ARIMA Model"
      ],
      "metadata": {
        "id": "RW-35kc0zlLi"
      }
    },
    {
      "cell_type": "code",
      "source": [
        "#ARIMA Model\n",
        "model = ARIMA(corn_data_clean['value'].dropna().values, order=(1,1,1))\n",
        "model_fit = model.fit(disp=0)\n",
        "print(model_fit.summary())"
      ],
      "metadata": {
        "id": "CYtXxn971U7W"
      },
      "execution_count": null,
      "outputs": []
    },
    {
      "cell_type": "markdown",
      "source": [
        "### Visualize residual errors"
      ],
      "metadata": {
        "id": "dC72_xcO1i85"
      }
    },
    {
      "cell_type": "code",
      "source": [
        "residuals = pd.DataFrame(model_fit.resid)\n",
        "fig, ax = plt.subplots(1,2)\n",
        "residuals.plot(title=\"Residuals\", ax=ax[0])\n",
        "residuals.plot(kind='kde', title='Density', ax=ax[1])\n",
        "plt.show()"
      ],
      "metadata": {
        "id": "kn1T9oJZ5KVV"
      },
      "execution_count": null,
      "outputs": []
    },
    {
      "cell_type": "markdown",
      "source": [
        "### Is the error consistent?\n",
        "Test if residual errors follow normal distribution"
      ],
      "metadata": {
        "id": "v70jijhX7zgT"
      }
    },
    {
      "cell_type": "code",
      "source": [
        "import scipy.stats as stats\n",
        "\n",
        "#perform Chi-Square Goodness of Fit Test\n",
        "#H0: residual error follows normal distribution\n",
        "#H1: residual error does not follow normal distribution\n",
        "hyp_test = stats.normaltest(residuals.sample(100, random_state=19).values)\n",
        "res = 'Price difference does ' + ('' if hyp_test[1] > 0.05 else 'not ') +\\\n",
        "        f'follow the normal distribution, p-value: {hyp_test[1]}'\n",
        "print(f'Residuals variance: {np.var(residuals).values} \\\n",
        "        mean: {np.mean(residuals).values}')\n",
        "print(res)"
      ],
      "metadata": {
        "id": "7eM--Up479NX"
      },
      "execution_count": null,
      "outputs": []
    },
    {
      "cell_type": "markdown",
      "source": [
        "### Plot actual vs predicted values"
      ],
      "metadata": {
        "id": "fzZCJhKo1uzr"
      }
    },
    {
      "cell_type": "code",
      "source": [
        "plt.rcParams.update({'figure.figsize':(16,6)})\n",
        "model_fit.plot_predict(dynamic=False)\n",
        "plt.show()"
      ],
      "metadata": {
        "id": "T06V6EPf1nNU"
      },
      "execution_count": null,
      "outputs": []
    },
    {
      "cell_type": "markdown",
      "source": [
        "## Out-of-time ARIMA validation\n",
        "In order to tune the model to predict unseen prices it is possible to split the actual dataset in train (75%) and test (25%) subsets.  \n",
        "It is then possible to fit ARIMA model with the training test and compare predicted results with test set."
      ],
      "metadata": {
        "id": "48mzY6uQBVze"
      }
    },
    {
      "cell_type": "code",
      "source": [
        "perc_split = .85\n",
        "corn_data_split = round(len(corn_data_clean) * perc_split)\n",
        "corn_data_train = corn_data_clean.iloc[0:corn_data_split]\n",
        "corn_data_test = corn_data_clean.iloc[corn_data_split:]"
      ],
      "metadata": {
        "id": "Qxz_YRwT11ZW"
      },
      "execution_count": null,
      "outputs": []
    },
    {
      "cell_type": "markdown",
      "source": [
        "### Plot predictions"
      ],
      "metadata": {
        "id": "J_CS6OJyD1ta"
      }
    },
    {
      "cell_type": "code",
      "source": [
        "model = ARIMA(corn_data_train['value'].dropna().values, order=(1, 2, 1))  \n",
        "fitted = model.fit(disp=-1)  \n",
        "\n",
        "# Forecast\n",
        "fc, se, conf = fitted.forecast(len(corn_data_test), alpha=0.05)  # 95% conf\n",
        "\n",
        "# Make as pandas series\n",
        "fc_series = pd.Series(fc, index=corn_data_test['value'].index)\n",
        "lower_series = pd.Series(conf[:, 0], index=corn_data_test['value'].index)\n",
        "upper_series = pd.Series(conf[:, 1], index=corn_data_test['value'].index)\n",
        "\n",
        "# Plot\n",
        "plt.rcParams.update({'figure.figsize':(16, 6)})\n",
        "plt.plot(corn_data_train['value'], label='training')\n",
        "plt.plot(corn_data_test['value'], label='actual')\n",
        "plt.plot(fc_series, label='forecast')\n",
        "plt.fill_between(lower_series.index, lower_series, upper_series, \n",
        "                 color='k', alpha=.15)\n",
        "plt.title('Forecast vs Actuals')\n",
        "plt.legend(loc='upper left', fontsize=8)\n",
        "plt.show()"
      ],
      "metadata": {
        "id": "tqwwRu9LCi7W"
      },
      "execution_count": null,
      "outputs": []
    },
    {
      "cell_type": "markdown",
      "source": [
        "### Empirical evaluation\n",
        "Results are inconsistent with actual data since the majority of results are below the actual price. This lead to find best arima parameters to train a more precise model."
      ],
      "metadata": {
        "id": "NpPNLFkJGbuq"
      }
    },
    {
      "cell_type": "code",
      "source": [
        "model = pm.auto_arima(corn_data_train['value'].dropna(), start_p=1, start_q=1,\n",
        "                      test='adf',       # use adftest to find optimal 'd'\n",
        "                      max_p=3, max_q=3, # maximum p and q\n",
        "                      m=1,              # frequency of series\n",
        "                      d=None,           # let model determine 'd'\n",
        "                      seasonal=False,   # No Seasonality\n",
        "                      start_P=0, \n",
        "                      D=0, \n",
        "                      trace=True,\n",
        "                      error_action='ignore',  \n",
        "                      suppress_warnings=True, \n",
        "                      stepwise=True)\n",
        "\n",
        "#print(model.summary())\n",
        "model.aic()"
      ],
      "metadata": {
        "id": "uXeFMGApERRT"
      },
      "execution_count": null,
      "outputs": []
    },
    {
      "cell_type": "markdown",
      "source": [
        "## Plot ARIMA diagnostic"
      ],
      "metadata": {
        "id": "-KNrofgJLiEn"
      }
    },
    {
      "cell_type": "code",
      "source": [
        "plt.rcParams.update({'figure.figsize':(16,8)})\n",
        "model.plot_diagnostics()\n",
        "plt.show()"
      ],
      "metadata": {
        "id": "HDcNULr4HfDZ"
      },
      "execution_count": null,
      "outputs": []
    },
    {
      "cell_type": "markdown",
      "source": [
        "## Accuracy Metrics for Time Series Predictions"
      ],
      "metadata": {
        "id": "xWPgzrGHWN-J"
      }
    },
    {
      "cell_type": "code",
      "source": [
        "# Accuracy metrics\n",
        "def forecast_accuracy(forecast, actual):\n",
        "    mape = np.mean(np.abs(forecast - actual)/np.abs(actual))  # MAPE\n",
        "    me = np.mean(forecast - actual)             # ME\n",
        "    mae = np.mean(np.abs(forecast - actual))    # MAE\n",
        "    mpe = np.mean((forecast - actual)/actual)   # MPE\n",
        "    rmse = np.mean((forecast - actual)**2)**.5  # RMSE\n",
        "    corr = np.corrcoef(forecast, actual)[0,1]   # corr\n",
        "    mins = np.amin(np.hstack([forecast[:,None], \n",
        "                              actual[:,None]]), axis=1)\n",
        "    maxs = np.amax(np.hstack([forecast[:,None], \n",
        "                              actual[:,None]]), axis=1)\n",
        "    minmax = 1 - np.mean(mins/maxs)             # minmax\n",
        "    acf1 = acf(forecast - actual)[1]            # ACF1\n",
        "    return({'mape':mape, 'me':me, 'mae': mae, \n",
        "            'mpe': mpe, 'rmse':rmse, 'acf1':acf1, \n",
        "            'corr':corr, 'minmax':minmax})\n",
        "\n",
        "forecast_accuracy(fc, corn_data_test['value'].values)"
      ],
      "metadata": {
        "id": "_UU27zzFWNOr"
      },
      "execution_count": null,
      "outputs": []
    },
    {
      "cell_type": "markdown",
      "source": [
        "## Use best ARIMA model to compute predictions"
      ],
      "metadata": {
        "id": "GEtnmnyeK0vM"
      }
    },
    {
      "cell_type": "code",
      "source": [
        "model = ARIMA(corn_data_train['value'].dropna().values, order=(1, 2, 1))  \n",
        "fitted = model.fit(disp=-1)  \n",
        "\n",
        "# Forecast\n",
        "fc, se, conf = fitted.forecast(len(corn_data_test), alpha=0.05)  # 95% conf\n",
        "\n",
        "# Make as pandas series\n",
        "fc_series = pd.Series(fc, index=corn_data_test['value'].index)\n",
        "lower_series = pd.Series(conf[:, 0], index=corn_data_test['value'].index)\n",
        "upper_series = pd.Series(conf[:, 1], index=corn_data_test['value'].index)\n",
        "\n",
        "# Plot\n",
        "plt.plot(corn_data_train['value'], label='training')\n",
        "plt.plot(corn_data_test['value'], label='actual')\n",
        "plt.plot(fc_series, label='forecast')\n",
        "plt.fill_between(lower_series.index, lower_series, upper_series, \n",
        "                 color='k', alpha=.15)\n",
        "plt.title('Forecast vs Actuals')\n",
        "plt.legend(loc='upper left', fontsize=8)\n",
        "plt.show()\n",
        "\n"
      ],
      "metadata": {
        "id": "fa2aX5-IK6Q2"
      },
      "execution_count": null,
      "outputs": []
    },
    {
      "cell_type": "markdown",
      "source": [
        "## Implement Seasonality Analysis\n",
        "Compute differentiation with respect to the previous season values."
      ],
      "metadata": {
        "id": "leitnebysavW"
      }
    },
    {
      "cell_type": "code",
      "source": [
        "# Seasonal period: year\n",
        "diff_factor = 365\n",
        "\n",
        "# Plot\n",
        "fig, axes = plt.subplots(2, 1, sharex=True)\n",
        "\n",
        "# Usual Differencing\n",
        "axes[0].plot(corn_data_clean['value'].values, label='Original Series')\n",
        "axes[0].plot(corn_data_clean['value'].diff(1).values, label='Usual Differencing')\n",
        "axes[0].set_title('Usual Differencing')\n",
        "axes[0].legend(loc='upper left', fontsize=10)\n",
        "\n",
        "\n",
        "# Seasinal Dei\n",
        "axes[1].plot(corn_data_clean['value'].values, label='Original Series')\n",
        "axes[1].plot(corn_data_clean['value'].diff(diff_factor).values, label='Seasonal Differencing', color='green')\n",
        "axes[1].set_title('Seasonal Differencing')\n",
        "plt.legend(loc='upper left', fontsize=10)\n",
        "plt.suptitle('Corn price time series', fontsize=16)\n",
        "plt.show()"
      ],
      "metadata": {
        "id": "VZTihDM5KSo_"
      },
      "execution_count": null,
      "outputs": []
    },
    {
      "cell_type": "code",
      "source": [
        "smodel = pm.auto_arima(corn_data_clean['value'].values, start_p=1, start_q=1,\n",
        "                         test='adf',\n",
        "                         max_p=3, max_q=3, m=diff_factor,\n",
        "                         start_P=0, seasonal=True,\n",
        "                         d=None, D=1, trace=True,\n",
        "                         error_action='ignore',  \n",
        "                         suppress_warnings=True, \n",
        "                         stepwise=True)\n",
        "\n",
        "smodel.summary()"
      ],
      "metadata": {
        "id": "nBRDjiUDvVNK"
      },
      "execution_count": null,
      "outputs": []
    },
    {
      "cell_type": "code",
      "source": [
        ""
      ],
      "metadata": {
        "id": "ib-ZPqzFxhiy"
      },
      "execution_count": null,
      "outputs": []
    }
  ]
}